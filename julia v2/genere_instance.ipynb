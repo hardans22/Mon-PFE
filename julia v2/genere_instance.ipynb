{
 "cells": [
  {
   "cell_type": "code",
   "execution_count": 10,
   "id": "4f567364",
   "metadata": {},
   "outputs": [],
   "source": [
    "using PyCall"
   ]
  },
  {
   "cell_type": "code",
   "execution_count": 30,
   "id": "66644adc",
   "metadata": {},
   "outputs": [
    {
     "ename": "LoadError",
     "evalue": "UndefVarError: path not defined",
     "output_type": "error",
     "traceback": [
      "UndefVarError: path not defined",
      ""
     ]
    }
   ],
   "source": [
    "function gen_instances(t, p, fp = false)\n",
    "    if isfile(fp)\n",
    "        \n",
    "    else\n",
    "        T = 1:t\n",
    "        P = 1:p\n",
    "        alpha = round(0.6 + (0.95 - 0.6) * rand(), digits = 2)\n",
    "        set_up_cost = [rand(500:1000) for _ in P, _ in T]\n",
    "        variable_prod_cost = [rand(10:14) for _ in P, _ in T]\n",
    "        holding_cost = [rand(5:10) for _ in P, _ in T]\n",
    "        demand = [rand(0:50) for _ in P, _ in T]\n",
    "        mtn_cost = [rand(1000 +3*p*t:5000 + 3*p*t) for _ in T]\n",
    "        cmax = p*rand(40:50)"
   ]
  },
  {
   "cell_type": "code",
   "execution_count": null,
   "id": "48b3d88d",
   "metadata": {},
   "outputs": [],
   "source": [
    "function mutation(sol, instance_dict, lag_step)\n",
    "    T = instance_dict[\"T\"]\n",
    "    P = instance_dict[\"P\"]\n",
    "    cmax = instance_dict[\"cmax\"]\n",
    "    alpha = instance_dict[\"alpha\"]\n",
    "    t = length(T)\n",
    "    demand = instance_dict[\"demand\"]\n",
    "    mtn_cost = instance_dict[\"mtn_cost\"]\n",
    "    set_up_cost = instance_dict[\"set_up_cost\"]\n",
    "    variable_prod_cost = instance_dict[\"variable_prod_cost\"]\n",
    "    holding_cost = instance_dict[\"holding_cost\"]\n",
    "    unf_cost = sum(variable_prod_cost[i,j]*demand[i,j] + holding_cost[i,j]*demand[i,j] + set_up_cost[i,j] for i in P, j in T) + sum(mtn_cost[j] for j in T)\n",
    "    #ind = rand(2:t)\n",
    "    z_new = copy(sol.z)\n",
    "    c_new = copy(sol.c)\n",
    "    y_new = copy(sol.y)\n",
    "    \n",
    "    #println(z_new)\n",
    "    #display(y_new)\n",
    "    list_ind = sort(randperm(t-1) .+ 1)\n",
    "    \n",
    "    i = 1\n",
    "    while i < t && z_new[list_ind[i]] != 1 && list_ind[i] + lag_step < t\n",
    "        i += 1\n",
    "    end\n",
    "    #println(list_ind[i])\n",
    "    #println(z_new[list_ind[i]])\n",
    "    if z_new[list_ind[i] + lag_step] == 0 \n",
    "        z_new[list_ind[i]] = 0 \n",
    "        c_new[list_ind[i]] = alpha*c_new[list_ind[i]-1]\n",
    "        z_new[list_ind[i] + lag_step] = 1\n",
    "        c_new[list_ind[i]+lag_step] = cmax\n",
    "        \n",
    "    else\n",
    "        z_new[list_ind[i] + lag_step] = 0\n",
    "        c_new[list_ind[i]+lag_step] = alpha*c_new[list_ind[i]+lag_step-1]\n",
    "    end \n",
    "    #println(z_new)\n",
    "    for item in P\n",
    "        i = 1\n",
    "        while i < t && y_new[item,list_ind[i]] != 1 && list_ind[i] + lag_step < t\n",
    "            i += 1\n",
    "        end\n",
    "        #println(list_ind[i])\n",
    "        if y_new[item,list_ind[i] + lag_step] == 0 \n",
    "            y_new[item,list_ind[i]] = 0 \n",
    "            y_new[item,(list_ind[i] + lag_step)] = 1\n",
    "            \n",
    "        else\n",
    "            y_new[item,(list_ind[i] + lag_step)] = 0\n",
    "        end \n",
    "    end \n",
    "    #display(y_new)\n",
    "    \n",
    "    feasible, x, I, obj = find_x_I(y_new, c_new, instance_dict)\n",
    "    #println(feasible)\n",
    "    if feasible\n",
    "        obj += sum(set_up_cost[i,j]*y_new[i,j] for i in P, j in T) + sum(mtn_cost[j]*z_new[j] for j in T)\n",
    "        sol_new = solution(x,I,y_new,z_new,c_new,obj,0)\n",
    "    else\n",
    "        x_I = zeros(Float64,p,t)\n",
    "        sol_new = solution(x_I,x_I,y_new,z_new,c_new,unf_cost,0) \n",
    "    end \n",
    "    return sol_new\n",
    "end \n"
   ]
  },
  {
   "cell_type": "code",
   "execution_count": null,
   "id": "29cbd6ef",
   "metadata": {},
   "outputs": [],
   "source": [
    "function mutation2(sol, instance_dict, lag_step)\n",
    "    T = instance_dict[\"T\"]\n",
    "    P = instance_dict[\"P\"]\n",
    "    t = length(T)\n",
    "    cmax = instance_dict[\"cmax\"]\n",
    "    alpha = instance_dict[\"alpha\"]\n",
    "    mtn_cost = instance_dict[\"mtn_cost\"]\n",
    "    demand = instance_dict[\"demand\"]\n",
    "    set_up_cost = instance_dict[\"set_up_cost\"]\n",
    "    variable_prod_cost = instance_dict[\"variable_prod_cost\"]\n",
    "    holding_cost = instance_dict[\"holding_cost\"]\n",
    "    unf_cost = sum(variable_prod_cost[i,j]*demand[i,j] + holding_cost[i,j]*demand[i,j] + set_up_cost[i,j] for i in P, j in T) + sum(mtn_cost[j] for j in T)\n",
    "    #ind = rand(2:t)\n",
    "    z_new = copy(sol.z)\n",
    "    y_new = copy(sol.y)\n",
    "    \n",
    "    #println(z_new)\n",
    "    #display(y_new)\n",
    "    ind = rand(2:t-lag_step)\n",
    "    i = 1\n",
    "    while i < t && z_new[list_ind[i]] != 1 && list_ind[i] + lag_step < t\n",
    "        i += 1\n",
    "    end\n",
    "    \n",
    "    if z_new[ind] == 1 && z_new[ind + lag_step] == 0 \n",
    "        z_new[ind] = 0 \n",
    "        z_new[ind + lag_step] = 1\n",
    "        \n",
    "    elseif z_new[ind+lag_step] == 1 \n",
    "        z_new[ind + lag_step] = 0\n",
    "    \n",
    "    else \n",
    "        z_new[ind] = 1 \n",
    "        z_new[ind + lag_step] = 0\n",
    "    \n",
    "    end\n",
    "    c_new = zeros(Float64,t)\n",
    "    for j in 1:t\n",
    "        if z_new[j] ==1\n",
    "            c_new[j] = cmax\n",
    "        else\n",
    "            c_new[j] = alpha*c_new[j-1]\n",
    "        end\n",
    "    end\n",
    "        \n",
    "    \n",
    "    #println(z_new)\n",
    "    ind = rand(2:t-lag_step)\n",
    "    for item in P\n",
    "        if y_new[item, ind] == 1 && y_new[item,ind + lag_step] == 0 \n",
    "            y_new[item,ind] = 0 \n",
    "            y_new[item,(ind + lag_step)] = 1\n",
    "            \n",
    "        elseif y_new[item,(ind + lag_step)] == 1\n",
    "            y_new[item,(ind + lag_step)] = 0\n",
    "        \n",
    "        else \n",
    "            y_new[item,ind] = 1\n",
    "            y_new[item,(ind + lag_step)] = 0\n",
    "        \n",
    "        end \n",
    "    end \n",
    "    #display(y_new)\n",
    "    \n",
    "    feasible, x, I, obj = find_x_I(y_new, c_new, instance_dict)\n",
    "    #println(feasible)\n",
    "    if feasible\n",
    "        obj += sum(set_up_cost[i,j]*y_new[i,j] for i in P, j in T) + sum(mtn_cost[j]*z_new[j] for j in T)\n",
    "        sol_new = solution(x,I,y_new,z_new,c_new,obj,0)\n",
    "    else\n",
    "        x_I = zeros(Float64,p,t)\n",
    "        sol_new = solution(x_I,x_I,y_new,z_new,c_new,unf_cost,0) \n",
    "    end \n",
    "    return sol_new\n",
    "end \n",
    "    "
   ]
  },
  {
   "cell_type": "code",
   "execution_count": null,
   "id": "2f43920b",
   "metadata": {},
   "outputs": [],
   "source": []
  },
  {
   "cell_type": "code",
   "execution_count": 36,
   "id": "229ead26",
   "metadata": {},
   "outputs": [
    {
     "data": {
      "text/plain": [
       "PyObject <module '__init__' from '/home/harcenage/Documents/CLSPM/julia/__init__.py'>"
      ]
     },
     "execution_count": 36,
     "metadata": {},
     "output_type": "execute_result"
    }
   ],
   "source": [
    "pushfirst!(PyVector(pyimport(\"sys\").\"path\"), \"\")\n",
    "init  = pyimport(\"__init__\")"
   ]
  },
  {
   "cell_type": "code",
   "execution_count": 4,
   "id": "54b4e2e2",
   "metadata": {},
   "outputs": [
    {
     "ename": "LoadError",
     "evalue": "syntax: character literal contains multiple characters",
     "output_type": "error",
     "traceback": [
      "syntax: character literal contains multiple characters",
      "",
      "Stacktrace:",
      " [1] top-level scope",
      "   @ In[4]:16"
     ]
    }
   ],
   "source": [
    "\n",
    "        if fp \n",
    "            file = open(fp, \"w\") \n",
    "            write(file, 'Set of periods in the planning horizon T: \\n' + str(t) + '\\n' + \n",
    "                        'Set of products P: \\n' + str(p) + '\\n' +\n",
    "                        'Capacity reduction coefficient alpha: \\n' + str(alpha) + '\\n' +\n",
    "                        'Fixed production cost of each product in each period f: \\n' + json.dumps(f) + '\\n' +\n",
    "                        'Variable production cost per unit of each product in each period p: \\n' + json.dumps(vp) + '\\n' +\n",
    "                        'Inventory holding cost per unit of each product by the end of each period h: \\n' +\n",
    "                           json.dumps(h) + '\\n' +\n",
    "                         'Demand for each product in each period d: \\n' + json.dumps(d) + '\\n' +\n",
    "                         'Maintenance cost in each period m: \\n' + str(m) + '\\n' +\n",
    "                         'Maximum capacity of the machine cmax: \\n' + str(cmax))\n",
    "            close(file)\n",
    "        end\n",
    "        \n",
    "    end \n",
    "    \n",
    "end "
   ]
  },
  {
   "cell_type": "code",
   "execution_count": 11,
   "id": "dcbf6dc3",
   "metadata": {},
   "outputs": [
    {
     "name": "stdout",
     "output_type": "stream",
     "text": [
      "This is an article"
     ]
    }
   ],
   "source": [
    "word=\"article\"\n",
    "@printf(\"This is an %s\",word)\n"
   ]
  },
  {
   "cell_type": "code",
   "execution_count": 19,
   "id": "4b80832e",
   "metadata": {},
   "outputs": [
    {
     "ename": "LoadError",
     "evalue": "MethodError: no method matching +(::String, ::String)\n\u001b[0mClosest candidates are:\n\u001b[0m  +(::Any, ::Any, \u001b[91m::Any\u001b[39m, \u001b[91m::Any...\u001b[39m) at operators.jl:591\n\u001b[0m  +(\u001b[91m::PyObject\u001b[39m, ::Any) at ~/.julia/packages/PyCall/twYvK/src/pyoperators.jl:13\n\u001b[0m  +(::Any, \u001b[91m::PyObject\u001b[39m) at ~/.julia/packages/PyCall/twYvK/src/pyoperators.jl:14",
     "output_type": "error",
     "traceback": [
      "MethodError: no method matching +(::String, ::String)\n\u001b[0mClosest candidates are:\n\u001b[0m  +(::Any, ::Any, \u001b[91m::Any\u001b[39m, \u001b[91m::Any...\u001b[39m) at operators.jl:591\n\u001b[0m  +(\u001b[91m::PyObject\u001b[39m, ::Any) at ~/.julia/packages/PyCall/twYvK/src/pyoperators.jl:13\n\u001b[0m  +(::Any, \u001b[91m::PyObject\u001b[39m) at ~/.julia/packages/PyCall/twYvK/src/pyoperators.jl:14",
      "",
      "Stacktrace:",
      " [1] top-level scope",
      "   @ In[19]:1"
     ]
    }
   ],
   "source": [
    "file_path = \"instances/rd_instance\" + string(10)"
   ]
  },
  {
   "cell_type": "code",
   "execution_count": 37,
   "id": "83eaa878",
   "metadata": {},
   "outputs": [
    {
     "data": {
      "text/plain": [
       "\"instances/rd_instance10_20.txt\""
      ]
     },
     "execution_count": 37,
     "metadata": {},
     "output_type": "execute_result"
    }
   ],
   "source": [
    "file_path = \"instances/rd_instance\" * string(10) * \"_\" * string(20) * \".txt\";\n",
    "instance_dict = init.gen_instance(10,20, fp=file_path); \n"
   ]
  },
  {
   "cell_type": "code",
   "execution_count": 40,
   "id": "bfcf3e99",
   "metadata": {},
   "outputs": [
    {
     "name": "stdout",
     "output_type": "stream",
     "text": [
      "Set of periods in the planning horizon T: \n",
      "20\n",
      "Set of products P: \n",
      "10\n",
      "Capacity reduction coefficient alpha: \n",
      "0.68\n",
      "Relative decrease of capacity per set up gamma: \n",
      "0.34\n",
      "Capacity reduction coefficient due to product types beta: \n",
      "[0.28, 0.29, 0.25, 0.21, 0.3, 0.29, 0.38, 0.26, 0.4, 0.27]\n",
      "Fixed production cost of each product in each period f: \n",
      "[[516, 522, 737, 233, 395, 738, 582, 645, 251, 485, 742, 851, 567, 447, 650, 234, 989, 730, 671, 710], [461, 495, 617, 650, 337, 422, 228, 308, 906, 571, 718, 580, 296, 877, 499, 434, 994, 645, 310, 294], [703, 959, 379, 765, 508, 496, 636, 283, 539, 333, 871, 851, 956, 355, 476, 735, 768, 976, 902, 530], [328, 602, 676, 686, 712, 887, 896, 473, 882, 217, 430, 989, 989, 584, 350, 801, 231, 949, 232, 923], [467, 953, 651, 899, 256, 904, 553, 484, 742, 206, 319, 503, 393, 648, 201, 412, 285, 399, 256, 264], [753, 835, 633, 992, 513, 453, 499, 507, 750, 507, 572, 278, 892, 600, 974, 866, 889, 830, 873, 574], [885, 424, 601, 820, 906, 449, 348, 386, 428, 235, 639, 607, 226, 313, 552, 970, 600, 574, 618, 316], [328, 589, 998, 318, 597, 341, 445, 750, 497, 474, 734, 790, 491, 288, 263, 304, 949, 518, 400, 680], [337, 463, 243, 457, 560, 803, 763, 685, 880, 253, 990, 320, 954, 601, 414, 226, 433, 357, 256, 793], [875, 391, 881, 501, 608, 782, 601, 882, 538, 823, 859, 238, 403, 649, 410, 661, 393, 268, 362, 363]]\n",
      "Variable production cost per unit of each product in each period p: \n",
      "[[20, 23, 26, 22, 24, 26, 27, 23, 26, 20, 22, 25, 21, 20, 27, 24, 25, 25, 26, 21], [23, 27, 26, 29, 27, 21, 27, 21, 26, 29, 20, 27, 24, 20, 28, 23, 25, 29, 24, 24], [24, 28, 22, 26, 20, 28, 20, 27, 26, 27, 20, 26, 28, 27, 28, 23, 27, 23, 26, 28], [20, 27, 22, 23, 29, 25, 21, 23, 24, 29, 27, 25, 26, 22, 26, 27, 23, 27, 28, 27], [26, 29, 22, 21, 20, 25, 25, 20, 20, 28, 27, 21, 27, 21, 21, 28, 25, 21, 28, 22], [25, 23, 29, 27, 23, 26, 26, 22, 28, 20, 28, 28, 28, 22, 20, 28, 22, 21, 23, 24], [22, 20, 29, 29, 24, 24, 21, 22, 28, 27, 24, 27, 20, 22, 27, 23, 22, 21, 28, 24], [26, 26, 28, 20, 27, 28, 27, 25, 26, 28, 23, 21, 22, 20, 27, 25, 23, 28, 26, 28], [24, 22, 29, 28, 26, 22, 28, 29, 21, 29, 26, 22, 25, 28, 28, 25, 27, 21, 22, 26], [28, 22, 21, 28, 21, 23, 29, 24, 28, 28, 24, 22, 28, 21, 28, 26, 24, 21, 22, 27]]\n",
      "Inventory holding cost per unit of each product by the end of each period h: \n",
      "[[18, 19, 13, 19, 12, 19, 15, 15, 12, 16, 10, 15, 17, 10, 12, 11, 12, 18, 18, 10], [10, 11, 11, 10, 15, 14, 13, 13, 14, 10, 13, 11, 19, 11, 16, 14, 11, 15, 15, 13], [10, 17, 15, 13, 19, 17, 18, 17, 12, 19, 12, 13, 11, 17, 14, 15, 15, 16, 10, 15], [13, 15, 12, 10, 12, 16, 11, 12, 17, 14, 15, 10, 16, 19, 18, 18, 17, 11, 14, 13], [12, 12, 10, 18, 11, 15, 18, 17, 13, 10, 17, 17, 13, 11, 19, 15, 14, 11, 18, 12], [12, 11, 15, 17, 17, 14, 18, 18, 12, 14, 16, 12, 10, 10, 13, 15, 17, 10, 16, 16], [15, 16, 18, 10, 11, 19, 19, 15, 13, 10, 13, 11, 14, 13, 17, 19, 11, 17, 13, 11], [17, 19, 13, 10, 13, 19, 13, 13, 13, 16, 11, 15, 16, 10, 12, 10, 13, 16, 10, 12], [11, 19, 16, 10, 13, 16, 14, 16, 15, 16, 17, 11, 15, 19, 17, 11, 17, 10, 18, 16], [16, 18, 14, 18, 15, 11, 18, 17, 16, 16, 18, 15, 19, 19, 10, 17, 14, 13, 11, 11]]\n",
      "Demand for each product in each period d: \n",
      "[[103, 318, 459, 371, 194, 135, 56, 158, 179, 172, 372, 215, 126, 414, 479, 462, 277, 251, 453, 312], [249, 213, 426, 437, 464, 108, 63, 197, 366, 481, 275, 91, 377, 398, 81, 138, 75, 356, 414, 491], [308, 237, 185, 239, 214, 264, 333, 260, 308, 51, 243, 468, 90, 54, 63, 220, 191, 123, 455, 432], [182, 264, 154, 482, 380, 398, 303, 331, 157, 310, 231, 135, 433, 428, 231, 54, 182, 465, 158, 397], [180, 233, 420, 56, 246, 365, 478, 276, 282, 306, 51, 250, 199, 77, 438, 71, 238, 316, 420, 169], [468, 237, 418, 399, 478, 358, 493, 375, 475, 310, 338, 385, 415, 471, 221, 324, 480, 109, 51, 468], [367, 359, 320, 168, 368, 492, 242, 228, 221, 355, 218, 348, 470, 491, 187, 469, 192, 232, 436, 335], [236, 250, 308, 366, 149, 303, 306, 80, 307, 359, 61, 395, 476, 462, 254, 211, 162, 337, 450, 430], [304, 116, 195, 179, 356, 474, 183, 467, 229, 458, 225, 414, 417, 359, 379, 111, 486, 81, 174, 77], [371, 140, 317, 301, 442, 423, 377, 101, 236, 86, 95, 169, 70, 175, 326, 185, 459, 326, 315, 132]]\n",
      "Maintenance cost in each period m: \n",
      "[4788, 8252, 2449, 7807, 4006, 5379, 8707, 6726, 9575, 2887, 6660, 3899, 4596, 4085, 3343, 3731, 7037, 5428, 3830, 2500]\n",
      "Maximum capacity of the machine cmax: \n",
      "4360\n"
     ]
    },
    {
     "data": {
      "text/plain": [
       "Dict{Any, Any} with 13 entries:\n",
       "  \"complexity\"         => false\n",
       "  \"T\"                  => 0:19\n",
       "  \"P\"                  => 0:9\n",
       "  \"set_up_cost\"        => [516 522 … 671 710; 461 495 … 310 294; … ; 337 463 … …\n",
       "  \"mtn_cost\"           => [4788, 8252, 2449, 7807, 4006, 5379, 8707, 6726, 9575…\n",
       "  \"alpha\"              => 0.68\n",
       "  \"demand\"             => [103 318 … 453 312; 249 213 … 414 491; … ; 304 116 … …\n",
       "  \"beta\"               => [0.28, 0.29, 0.25, 0.21, 0.3, 0.29, 0.38, 0.26, 0.4, …\n",
       "  \"cmax\"               => 4360\n",
       "  \"gamma\"              => 0.34\n",
       "  \"holding_cost\"       => [18 19 … 18 10; 10 11 … 15 13; … ; 11 19 … 18 16; 16 …\n",
       "  \"variable_prod_cost\" => [20 23 … 26 21; 23 27 … 24 24; … ; 24 22 … 22 26; 28 …\n",
       "  \"cyclic\"             => false"
      ]
     },
     "execution_count": 40,
     "metadata": {},
     "output_type": "execute_result"
    }
   ],
   "source": [
    " "
   ]
  },
  {
   "cell_type": "code",
   "execution_count": 39,
   "id": "860bd30c",
   "metadata": {},
   "outputs": [
    {
     "name": "stdout",
     "output_type": "stream",
     "text": [
      "Dict{Any, Any}(\"complexity\" => false, \"T\" => 0:9, \"P\" => 0:19, \"set_up_cost\" => [342 381 441 238 416 496 457 288 126 281; 405 298 291 387 215 247 185 186 288 108; 104 489 492 375 123 129 212 162 112 437; 376 155 477 404 321 405 493 265 193 281; 263 249 159 223 147 461 299 280 356 431; 315 103 307 264 158 469 307 413 314 115; 380 238 433 200 181 414 116 340 384 480; 313 133 146 467 291 300 138 431 432 335; 167 443 212 207 487 101 278 268 272 378; 144 419 132 282 278 247 379 248 429 486; 241 286 383 320 311 143 140 118 393 262; 337 390 291 192 157 214 260 311 171 113; 348 183 207 165 402 452 427 347 248 383; 323 357 279 483 471 455 416 278 267 292; 421 363 402 338 370 472 444 163 295 131; 209 235 178 432 185 223 212 196 346 340; 158 421 490 203 251 341 166 277 289 207; 318 432 450 468 423 418 241 310 450 460; 284 418 176 115 160 419 362 230 392 400; 410 225 316 273 231 302 358 474 454 288], \"mtn_cost\" => [3393, 4903, 3476, 3227, 1752, 3433, 1843, 1648, 4206, 1239], \"alpha\" => 0.65, \"demand\" => [233 277 129 416 335 79 353 297 135 263; 200 317 169 403 236 273 186 78 231 221; 360 215 210 167 337 381 185 464 160 259; 203 124 414 55 390 331 324 230 499 436; 235 438 239 233 260 409 114 175 475 420; 391 231 258 403 422 144 300 435 183 87; 229 72 448 369 432 121 476 237 344 123; 230 172 129 228 347 139 376 75 83 70; 101 100 200 70 474 491 348 447 312 232; 379 188 196 102 213 57 273 252 211 244; 476 183 119 319 250 311 152 186 245 295; 262 243 50 155 460 190 381 330 231 214; 60 266 182 422 297 294 425 299 78 399; 195 67 105 189 120 280 118 291 185 204; 201 439 102 445 459 235 388 264 381 158; 104 428 328 175 267 93 172 239 235 340; 262 324 456 482 87 167 396 435 475 283; 499 152 274 333 133 452 82 146 286 465; 119 264 134 272 273 237 472 271 108 332; 194 293 499 124 247 283 495 351 410 158], \"beta\" => [0.28, 0.28, 0.24, 0.33, 0.31, 0.3, 0.3, 0.25, 0.37, 0.36, 0.22, 0.21, 0.27, 0.36, 0.22, 0.37, 0.26, 0.2, 0.33, 0.39], \"cmax\" => 8320, \"gamma\" => 0.22, \"holding_cost\" => [11 11 10 10 12 11 14 10 14 16; 13 18 19 14 13 18 15 14 10 16; 10 11 17 17 11 13 13 16 13 10; 16 19 12 10 12 12 12 17 13 13; 11 16 17 19 10 14 19 14 18 10; 14 19 11 17 14 11 11 15 14 11; 14 17 11 10 19 18 13 12 18 14; 15 10 12 16 11 19 18 11 17 16; 14 19 11 11 11 11 17 14 13 14; 14 11 15 12 14 11 17 13 19 12; 12 18 14 13 15 16 18 19 13 17; 16 16 12 11 17 15 16 14 19 14; 10 15 17 15 13 19 10 16 15 14; 13 18 16 19 16 19 13 16 13 10; 12 14 10 15 10 15 10 12 14 19; 10 10 12 14 11 12 16 19 12 15; 16 19 14 11 19 19 14 19 13 10; 15 17 11 10 12 11 14 19 18 10; 12 16 15 14 18 18 11 13 13 19; 15 18 18 15 14 13 14 17 17 19], \"variable_prod_cost\" => [20 26 22 22 24 20 28 26 26 26; 28 21 23 21 29 21 27 21 26 27; 29 29 23 24 20 21 29 25 20 24; 28 27 27 25 25 29 29 28 28 23; 21 24 29 26 25 29 29 25 27 21; 20 28 28 28 26 25 21 23 23 21; 27 26 27 23 26 29 22 22 26 28; 29 28 24 25 26 27 22 20 21 23; 23 25 28 23 22 23 20 23 23 29; 23 23 22 29 24 23 29 20 22 21; 23 22 24 21 25 26 24 21 22 26; 23 24 20 29 20 27 20 26 23 26; 20 28 22 27 25 23 28 26 28 21; 20 25 29 26 25 26 29 27 27 27; 24 23 24 20 20 25 22 22 24 20; 27 25 22 20 28 27 20 28 21 23; 27 26 21 23 29 23 28 26 21 22; 29 21 24 23 27 27 23 20 28 24; 28 22 27 28 24 26 29 25 24 23; 22 21 28 21 24 20 23 25 21 21], \"cyclic\" => false)\n"
     ]
    }
   ],
   "source": [
    "println(instance_dict)"
   ]
  },
  {
   "cell_type": "code",
   "execution_count": null,
   "id": "6eb85d41",
   "metadata": {},
   "outputs": [],
   "source": []
  }
 ],
 "metadata": {
  "kernelspec": {
   "display_name": "Julia 1.8.5",
   "language": "julia",
   "name": "julia-1.8"
  },
  "language_info": {
   "file_extension": ".jl",
   "mimetype": "application/julia",
   "name": "julia",
   "version": "1.8.5"
  }
 },
 "nbformat": 4,
 "nbformat_minor": 5
}
